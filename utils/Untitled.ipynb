{
 "cells": [
  {
   "cell_type": "code",
   "execution_count": 17,
   "metadata": {},
   "outputs": [],
   "source": [
    "from openpyxl import load_workbook\n",
    "import json"
   ]
  },
  {
   "cell_type": "code",
   "execution_count": 26,
   "metadata": {},
   "outputs": [],
   "source": [
    "wb = load_workbook(\"examples.xlsx\")"
   ]
  },
  {
   "cell_type": "code",
   "execution_count": 12,
   "metadata": {},
   "outputs": [],
   "source": [
    "cols = list(wb['Sheet1'].columns)\n",
    "headers = [x.value for x in cols[0]]\n",
    "entries = [[str(y.value) for y in x] for x in cols[2:]]"
   ]
  },
  {
   "cell_type": "code",
   "execution_count": 27,
   "metadata": {},
   "outputs": [],
   "source": [
    "examples = list(dict(zip(headers, entry)) for entry in entries)"
   ]
  },
  {
   "cell_type": "code",
   "execution_count": 32,
   "metadata": {},
   "outputs": [],
   "source": [
    "base_index = 1000\n",
    "\n",
    "for (i, x) in enumerate(examples):\n",
    "    x['supportedProts'] = [{\"protocol\" : x['supportedProts']}]\n",
    "    x['id'] = base_index + i\n",
    "    x['credentialType'] = x['name'] + \"Credential\"\n",
    "    x['category'] = \"category-two\"\n",
    "    x['organization'] = []\n",
    "    x['location'] =  \"\"\n",
    "    x['visibility'] = \"unclassified\"\n",
    "    x['constituents'] = []\n",
    "    x['reviews'] = []\n",
    "    x['offers'] = []\n",
    "    x['deploymentRequirements'] = None\n",
    "\n"
   ]
  },
  {
   "cell_type": "code",
   "execution_count": 31,
   "metadata": {},
   "outputs": [
    {
     "name": "stdout",
     "output_type": "stream",
     "text": [
      "{\n",
      "  \"name\": \"covid 19 LAMP sneltest\",\n",
      "  \"version\": \"None\",\n",
      "  \"description\": \"Stores the result of a LAMP quicktest for COVID 19\\n\\nexample:\\n{\\n  \\\"@context\\\": [\\n    \\\"https://www.w3.org/2018/credentials/v1\\\",\\n    \\\"https://www.tno.nl/health/ontology/coti\\\" // TODO: location of schema\\n  ],\\n  \\\"id\\\": \\\"https://ns.unlock.nl/credentials/example/2\\\",\\n  \\\"type\\\": [\\\"VerifiableCredential\\\", \\\"COVID19LAMPTestResultCredential\\\"],\\n  \\\"issuer\\\": \\\"did:example:c276e12ec21ebfeb1f712ebc6f1\\\",\\n  \\\"issuanceDate\\\": \\\"2020-12-10T19:73:24Z\\\",\\n  \\\"credentialSubject\\\": {\\n    \\\"id\\\": \\\"did:example:ebfeb1f712ebc6f1c276e12ec21\\\", // did of unlock wallet\\n    \\\"passportPhotograph\\\": \\\"iVBORw0KGgoAAAANSUhEUgAAAuAAAACFCAIAAACVGtqeAAAAA3\\\", // string of the image\\n    \\\"testResult\\\": {\\n      \\\"date\\\": \\\"2020-12-10T00:00:00Z\\\", // datetime on which the test result is specified\\n      \\\"result\\\": false,\\n      \\\"usedTest\\\": {\\n        \\\"testName\\\": \\\"TNOLAMP\\\",\\n        \\\"testType\\\": \\\"LAMP based SARS-CoV-2 test\\\",\\n        \\\"doneByLab\\\": {\\n          \\\"id\\\": \\\"https://tno.nl\\\", // identifier of test laboratory\\n          \\\"name\\\": \\\"TNO\\\"\\n        }\\n      }\\n    }\\n  },\\n  \\\"proof\\\": {\\n    \\\"type\\\": \\\"RsaSignature2018\\\",\\n    \\\"created\\\": \\\"2017-06-18T21:19:10Z\\\",\\n    \\\"proofPurpose\\\": \\\"assertionMethod\\\",\\n    \\\"verificationMethod\\\": \\\"https://example.edu/issuers/keys/1\\\",\\n    \\\"jws\\\": \\\"eyJhbGciOiJSUzI1NiIsImI2NCI6ZmFsc2UsImNyaXQiOlsiYjY0Il19..TCYt5XsITJX1CxPCT8yAV-TVkIEq_PbChOMqsLfRoPsnsgw5WEuts01mq-pQy7UJiN5mgRxD-WUcX16dUEMGlv50aqzpqh4Qktb3rk-BuQy72IFLOqV0G_zS245-kronKb78cPN25DGlcTwLtjPAYuNzVBAh4vGHSrQyHUdBBPM\\\"\\n  }\\n}\",\n",
      "  \"documentation\": \"https://gitlab.com/RoosBakker/coti\",\n",
      "  \"supportedProts\": [\n",
      "    \"VC\"\n",
      "  ],\n",
      "  \"maturity\": \"test\",\n",
      "  \"contact\": \"Roos Bakker \\u00b7 GitLab\",\n",
      "  \"id\": 1000,\n",
      "  \"credentialtype\": \"covid 19 LAMP sneltestCredential\",\n",
      "  \"category\": \"category-two\",\n",
      "  \"organization\": [],\n",
      "  \"location\": \"\",\n",
      "  \"visibility\": \"unclassified\",\n",
      "  \"constituents\": [],\n",
      "  \"reviews\": [],\n",
      "  \"offers\": [],\n",
      "  \"deploymentRequirements\": null\n",
      "}\n"
     ]
    }
   ],
   "source": [
    "print(json.dumps(examples[0], indent=2))"
   ]
  },
  {
   "cell_type": "code",
   "execution_count": null,
   "metadata": {},
   "outputs": [],
   "source": []
  },
  {
   "cell_type": "code",
   "execution_count": null,
   "metadata": {},
   "outputs": [],
   "source": []
  }
 ],
 "metadata": {
  "kernelspec": {
   "display_name": "Python 3",
   "language": "python",
   "name": "python3"
  },
  "language_info": {
   "codemirror_mode": {
    "name": "ipython",
    "version": 3
   },
   "file_extension": ".py",
   "mimetype": "text/x-python",
   "name": "python",
   "nbconvert_exporter": "python",
   "pygments_lexer": "ipython3",
   "version": "3.8.5"
  }
 },
 "nbformat": 4,
 "nbformat_minor": 4
}
